{
  "nbformat": 4,
  "nbformat_minor": 0,
  "metadata": {
    "colab": {
      "provenance": []
    },
    "kernelspec": {
      "name": "python3",
      "display_name": "Python 3"
    },
    "language_info": {
      "name": "python"
    }
  },
  "cells": [
    {
      "cell_type": "code",
      "execution_count": null,
      "metadata": {
        "id": "D5FIGu0rIQG3"
      },
      "outputs": [],
      "source": [
        "# Importing the NLTK library and Random module\n",
        "import nltk\n",
        "import random"
      ]
    },
    {
      "cell_type": "code",
      "source": [
        "# Downloading all the NLTK files\n",
        "nltk.download_shell()"
      ],
      "metadata": {
        "colab": {
          "base_uri": "https://localhost:8080/"
        },
        "id": "i2EHKLtzIpwo",
        "outputId": "7dc2558d-dba0-4a7a-faea-2ea9e27ccd7f"
      },
      "execution_count": null,
      "outputs": [
        {
          "name": "stdout",
          "output_type": "stream",
          "text": [
            "NLTK Downloader\n",
            "---------------------------------------------------------------------------\n",
            "    d) Download   l) List    u) Update   c) Config   h) Help   q) Quit\n",
            "---------------------------------------------------------------------------\n",
            "Downloader> d\n",
            "\n",
            "Download which package (l=list; x=cancel)?\n",
            "  Identifier> all\n"
          ]
        },
        {
          "output_type": "stream",
          "name": "stderr",
          "text": [
            "    Downloading collection 'all'\n",
            "       | \n",
            "       | Downloading package abc to /root/nltk_data...\n",
            "       |   Unzipping corpora/abc.zip.\n",
            "       | Downloading package alpino to /root/nltk_data...\n",
            "       |   Unzipping corpora/alpino.zip.\n",
            "       | Downloading package averaged_perceptron_tagger to\n",
            "       |     /root/nltk_data...\n",
            "       |   Unzipping taggers/averaged_perceptron_tagger.zip.\n",
            "       | Downloading package averaged_perceptron_tagger_ru to\n",
            "       |     /root/nltk_data...\n",
            "       |   Unzipping taggers/averaged_perceptron_tagger_ru.zip.\n",
            "       | Downloading package basque_grammars to /root/nltk_data...\n",
            "       |   Unzipping grammars/basque_grammars.zip.\n",
            "       | Downloading package biocreative_ppi to /root/nltk_data...\n",
            "       |   Unzipping corpora/biocreative_ppi.zip.\n",
            "       | Downloading package bllip_wsj_no_aux to /root/nltk_data...\n",
            "       |   Unzipping models/bllip_wsj_no_aux.zip.\n",
            "       | Downloading package book_grammars to /root/nltk_data...\n",
            "       |   Unzipping grammars/book_grammars.zip.\n",
            "       | Downloading package brown to /root/nltk_data...\n",
            "       |   Unzipping corpora/brown.zip.\n",
            "       | Downloading package brown_tei to /root/nltk_data...\n",
            "       |   Unzipping corpora/brown_tei.zip.\n",
            "       | Downloading package cess_cat to /root/nltk_data...\n",
            "       |   Unzipping corpora/cess_cat.zip.\n",
            "       | Downloading package cess_esp to /root/nltk_data...\n",
            "       |   Unzipping corpora/cess_esp.zip.\n",
            "       | Downloading package chat80 to /root/nltk_data...\n",
            "       |   Unzipping corpora/chat80.zip.\n",
            "       | Downloading package city_database to /root/nltk_data...\n",
            "       |   Unzipping corpora/city_database.zip.\n",
            "       | Downloading package cmudict to /root/nltk_data...\n",
            "       |   Unzipping corpora/cmudict.zip.\n",
            "       | Downloading package comparative_sentences to\n",
            "       |     /root/nltk_data...\n",
            "       |   Unzipping corpora/comparative_sentences.zip.\n",
            "       | Downloading package comtrans to /root/nltk_data...\n",
            "       | Downloading package conll2000 to /root/nltk_data...\n",
            "       |   Unzipping corpora/conll2000.zip.\n",
            "       | Downloading package conll2002 to /root/nltk_data...\n",
            "       |   Unzipping corpora/conll2002.zip.\n",
            "       | Downloading package conll2007 to /root/nltk_data...\n",
            "       | Downloading package crubadan to /root/nltk_data...\n",
            "       |   Unzipping corpora/crubadan.zip.\n",
            "       | Downloading package dependency_treebank to /root/nltk_data...\n",
            "       |   Unzipping corpora/dependency_treebank.zip.\n",
            "       | Downloading package dolch to /root/nltk_data...\n",
            "       |   Unzipping corpora/dolch.zip.\n",
            "       | Downloading package europarl_raw to /root/nltk_data...\n",
            "       |   Unzipping corpora/europarl_raw.zip.\n",
            "       | Downloading package extended_omw to /root/nltk_data...\n",
            "       | Downloading package floresta to /root/nltk_data...\n",
            "       |   Unzipping corpora/floresta.zip.\n",
            "       | Downloading package framenet_v15 to /root/nltk_data...\n",
            "       |   Unzipping corpora/framenet_v15.zip.\n",
            "       | Downloading package framenet_v17 to /root/nltk_data...\n",
            "       |   Unzipping corpora/framenet_v17.zip.\n",
            "       | Downloading package gazetteers to /root/nltk_data...\n",
            "       |   Unzipping corpora/gazetteers.zip.\n",
            "       | Downloading package genesis to /root/nltk_data...\n",
            "       |   Unzipping corpora/genesis.zip.\n",
            "       | Downloading package gutenberg to /root/nltk_data...\n",
            "       |   Unzipping corpora/gutenberg.zip.\n",
            "       | Downloading package ieer to /root/nltk_data...\n",
            "       |   Unzipping corpora/ieer.zip.\n",
            "       | Downloading package inaugural to /root/nltk_data...\n",
            "       |   Unzipping corpora/inaugural.zip.\n",
            "       | Downloading package indian to /root/nltk_data...\n",
            "       |   Unzipping corpora/indian.zip.\n",
            "       | Downloading package jeita to /root/nltk_data...\n",
            "       | Downloading package kimmo to /root/nltk_data...\n",
            "       |   Unzipping corpora/kimmo.zip.\n",
            "       | Downloading package knbc to /root/nltk_data...\n",
            "       | Downloading package large_grammars to /root/nltk_data...\n",
            "       |   Unzipping grammars/large_grammars.zip.\n",
            "       | Downloading package lin_thesaurus to /root/nltk_data...\n",
            "       |   Unzipping corpora/lin_thesaurus.zip.\n",
            "       | Downloading package mac_morpho to /root/nltk_data...\n",
            "       |   Unzipping corpora/mac_morpho.zip.\n",
            "       | Downloading package machado to /root/nltk_data...\n",
            "       | Downloading package masc_tagged to /root/nltk_data...\n",
            "       | Downloading package maxent_ne_chunker to /root/nltk_data...\n",
            "       |   Unzipping chunkers/maxent_ne_chunker.zip.\n",
            "       | Downloading package maxent_treebank_pos_tagger to\n",
            "       |     /root/nltk_data...\n",
            "       |   Unzipping taggers/maxent_treebank_pos_tagger.zip.\n",
            "       | Downloading package moses_sample to /root/nltk_data...\n",
            "       |   Unzipping models/moses_sample.zip.\n",
            "       | Downloading package movie_reviews to /root/nltk_data...\n",
            "       |   Unzipping corpora/movie_reviews.zip.\n",
            "       | Downloading package mte_teip5 to /root/nltk_data...\n",
            "       |   Unzipping corpora/mte_teip5.zip.\n",
            "       | Downloading package mwa_ppdb to /root/nltk_data...\n",
            "       |   Unzipping misc/mwa_ppdb.zip.\n",
            "       | Downloading package names to /root/nltk_data...\n",
            "       |   Unzipping corpora/names.zip.\n",
            "       | Downloading package nombank.1.0 to /root/nltk_data...\n",
            "       | Downloading package nonbreaking_prefixes to\n",
            "       |     /root/nltk_data...\n",
            "       |   Unzipping corpora/nonbreaking_prefixes.zip.\n",
            "       | Downloading package nps_chat to /root/nltk_data...\n",
            "       |   Unzipping corpora/nps_chat.zip.\n",
            "       | Downloading package omw to /root/nltk_data...\n",
            "       | Downloading package omw-1.4 to /root/nltk_data...\n",
            "       | Downloading package opinion_lexicon to /root/nltk_data...\n",
            "       |   Unzipping corpora/opinion_lexicon.zip.\n",
            "       | Downloading package panlex_swadesh to /root/nltk_data...\n",
            "       | Downloading package paradigms to /root/nltk_data...\n",
            "       |   Unzipping corpora/paradigms.zip.\n",
            "       | Downloading package pe08 to /root/nltk_data...\n",
            "       |   Unzipping corpora/pe08.zip.\n",
            "       | Downloading package perluniprops to /root/nltk_data...\n",
            "       |   Unzipping misc/perluniprops.zip.\n",
            "       | Downloading package pil to /root/nltk_data...\n",
            "       |   Unzipping corpora/pil.zip.\n",
            "       | Downloading package pl196x to /root/nltk_data...\n",
            "       |   Unzipping corpora/pl196x.zip.\n",
            "       | Downloading package porter_test to /root/nltk_data...\n",
            "       |   Unzipping stemmers/porter_test.zip.\n",
            "       | Downloading package ppattach to /root/nltk_data...\n",
            "       |   Unzipping corpora/ppattach.zip.\n",
            "       | Downloading package problem_reports to /root/nltk_data...\n",
            "       |   Unzipping corpora/problem_reports.zip.\n",
            "       | Downloading package product_reviews_1 to /root/nltk_data...\n",
            "       |   Unzipping corpora/product_reviews_1.zip.\n",
            "       | Downloading package product_reviews_2 to /root/nltk_data...\n",
            "       |   Unzipping corpora/product_reviews_2.zip.\n",
            "       | Downloading package propbank to /root/nltk_data...\n",
            "       | Downloading package pros_cons to /root/nltk_data...\n",
            "       |   Unzipping corpora/pros_cons.zip.\n",
            "       | Downloading package ptb to /root/nltk_data...\n",
            "       |   Unzipping corpora/ptb.zip.\n",
            "       | Downloading package punkt to /root/nltk_data...\n",
            "       |   Unzipping tokenizers/punkt.zip.\n",
            "       | Downloading package qc to /root/nltk_data...\n",
            "       |   Unzipping corpora/qc.zip.\n",
            "       | Downloading package reuters to /root/nltk_data...\n",
            "       | Downloading package rslp to /root/nltk_data...\n",
            "       |   Unzipping stemmers/rslp.zip.\n",
            "       | Downloading package rte to /root/nltk_data...\n",
            "       |   Unzipping corpora/rte.zip.\n",
            "       | Downloading package sample_grammars to /root/nltk_data...\n",
            "       |   Unzipping grammars/sample_grammars.zip.\n",
            "       | Downloading package semcor to /root/nltk_data...\n",
            "       | Downloading package senseval to /root/nltk_data...\n",
            "       |   Unzipping corpora/senseval.zip.\n",
            "       | Downloading package sentence_polarity to /root/nltk_data...\n",
            "       |   Unzipping corpora/sentence_polarity.zip.\n",
            "       | Downloading package sentiwordnet to /root/nltk_data...\n",
            "       |   Unzipping corpora/sentiwordnet.zip.\n",
            "       | Downloading package shakespeare to /root/nltk_data...\n",
            "       |   Unzipping corpora/shakespeare.zip.\n",
            "       | Downloading package sinica_treebank to /root/nltk_data...\n",
            "       |   Unzipping corpora/sinica_treebank.zip.\n",
            "       | Downloading package smultron to /root/nltk_data...\n",
            "       |   Unzipping corpora/smultron.zip.\n",
            "       | Downloading package snowball_data to /root/nltk_data...\n",
            "       | Downloading package spanish_grammars to /root/nltk_data...\n",
            "       |   Unzipping grammars/spanish_grammars.zip.\n",
            "       | Downloading package state_union to /root/nltk_data...\n",
            "       |   Unzipping corpora/state_union.zip.\n",
            "       | Downloading package stopwords to /root/nltk_data...\n",
            "       |   Unzipping corpora/stopwords.zip.\n",
            "       | Downloading package subjectivity to /root/nltk_data...\n",
            "       |   Unzipping corpora/subjectivity.zip.\n",
            "       | Downloading package swadesh to /root/nltk_data...\n",
            "       |   Unzipping corpora/swadesh.zip.\n",
            "       | Downloading package switchboard to /root/nltk_data...\n",
            "       |   Unzipping corpora/switchboard.zip.\n",
            "       | Downloading package tagsets to /root/nltk_data...\n",
            "       |   Unzipping help/tagsets.zip.\n",
            "       | Downloading package timit to /root/nltk_data...\n",
            "       |   Unzipping corpora/timit.zip.\n",
            "       | Downloading package toolbox to /root/nltk_data...\n",
            "       |   Unzipping corpora/toolbox.zip.\n",
            "       | Downloading package treebank to /root/nltk_data...\n",
            "       |   Unzipping corpora/treebank.zip.\n",
            "       | Downloading package twitter_samples to /root/nltk_data...\n",
            "       |   Unzipping corpora/twitter_samples.zip.\n",
            "       | Downloading package udhr to /root/nltk_data...\n",
            "       |   Unzipping corpora/udhr.zip.\n",
            "       | Downloading package udhr2 to /root/nltk_data...\n",
            "       |   Unzipping corpora/udhr2.zip.\n",
            "       | Downloading package unicode_samples to /root/nltk_data...\n",
            "       |   Unzipping corpora/unicode_samples.zip.\n",
            "       | Downloading package universal_tagset to /root/nltk_data...\n",
            "       |   Unzipping taggers/universal_tagset.zip.\n",
            "       | Downloading package universal_treebanks_v20 to\n",
            "       |     /root/nltk_data...\n",
            "       | Downloading package vader_lexicon to /root/nltk_data...\n",
            "       | Downloading package verbnet to /root/nltk_data...\n",
            "       |   Unzipping corpora/verbnet.zip.\n",
            "       | Downloading package verbnet3 to /root/nltk_data...\n",
            "       |   Unzipping corpora/verbnet3.zip.\n",
            "       | Downloading package webtext to /root/nltk_data...\n",
            "       |   Unzipping corpora/webtext.zip.\n",
            "       | Downloading package wmt15_eval to /root/nltk_data...\n",
            "       |   Unzipping models/wmt15_eval.zip.\n",
            "       | Downloading package word2vec_sample to /root/nltk_data...\n",
            "       |   Unzipping models/word2vec_sample.zip.\n",
            "       | Downloading package wordnet to /root/nltk_data...\n",
            "       | Downloading package wordnet2021 to /root/nltk_data...\n",
            "       | Downloading package wordnet31 to /root/nltk_data...\n",
            "       | Downloading package wordnet_ic to /root/nltk_data...\n",
            "       |   Unzipping corpora/wordnet_ic.zip.\n",
            "       | Downloading package words to /root/nltk_data...\n",
            "       |   Unzipping corpora/words.zip.\n",
            "       | Downloading package ycoe to /root/nltk_data...\n",
            "       |   Unzipping corpora/ycoe.zip.\n",
            "       | \n",
            "     Done downloading collection all\n"
          ]
        },
        {
          "name": "stdout",
          "output_type": "stream",
          "text": [
            "\n",
            "---------------------------------------------------------------------------\n",
            "    d) Download   l) List    u) Update   c) Config   h) Help   q) Quit\n",
            "---------------------------------------------------------------------------\n",
            "Downloader> q\n"
          ]
        }
      ]
    },
    {
      "cell_type": "code",
      "source": [
        "# importing the Movie Review corpus\n",
        "from nltk.corpus import movie_reviews"
      ],
      "metadata": {
        "id": "QYh7nGOEIshC"
      },
      "execution_count": null,
      "outputs": []
    },
    {
      "cell_type": "code",
      "source": [
        "# Creating an empty list for storing the documents\n",
        "documents = []\n",
        "\n",
        "# For each category in the movie_reviews corpus\n",
        "for category in movie_reviews.categories():\n",
        "\n",
        "  # for each file identifiers in the each category\n",
        "  for fileid in movie_reviews.fileids(category):\n",
        "    \n",
        "    # appending the file identifiers and cateories in a list. (the fileids and categories are stored in a set)\n",
        "    documents.append((list(movie_reviews.words(fileid)), category))"
      ],
      "metadata": {
        "id": "EpjZEVLOIutf"
      },
      "execution_count": null,
      "outputs": []
    },
    {
      "cell_type": "code",
      "source": [
        "# Using the shuffle function of the random module to shuffle the elements of the documents list.\n",
        "random.shuffle(documents)"
      ],
      "metadata": {
        "id": "KHtFAH7rIwVY"
      },
      "execution_count": null,
      "outputs": []
    },
    {
      "cell_type": "markdown",
      "source": [
        "**Creating a list of all word tokens**"
      ],
      "metadata": {
        "id": "4Tl02EZEM_UY"
      }
    },
    {
      "cell_type": "code",
      "source": [
        "# Let's get all the word tokens of the movie_review corpus and stored it in a list (all_words)\n",
        "all_words_tokens = []\n",
        "for w in movie_reviews.words():\n",
        "    all_words_tokens.append(w.lower()) # lowring the words"
      ],
      "metadata": {
        "id": "rjmdzy6TI0il"
      },
      "execution_count": null,
      "outputs": []
    },
    {
      "cell_type": "markdown",
      "source": [
        "**Frequency Distribution of all the word tokens**"
      ],
      "metadata": {
        "id": "uoL9bZI_NBA3"
      }
    },
    {
      "cell_type": "code",
      "source": [
        "# Get the frequency distribition of all the words\n",
        "all_words_freq = nltk.FreqDist(all_words_tokens)"
      ],
      "metadata": {
        "id": "jKiJ8eaoI6qB"
      },
      "execution_count": null,
      "outputs": []
    },
    {
      "cell_type": "code",
      "source": [
        "# Print out the length of the all frequent words list\n",
        "print(len(all_words_freq))"
      ],
      "metadata": {
        "colab": {
          "base_uri": "https://localhost:8080/"
        },
        "id": "dTwDj90LLJRz",
        "outputId": "c0ad21d4-34f0-45e7-f6c2-4e5044f396e8"
      },
      "execution_count": null,
      "outputs": [
        {
          "output_type": "stream",
          "name": "stdout",
          "text": [
            "39768\n"
          ]
        }
      ]
    },
    {
      "cell_type": "markdown",
      "source": [
        "**Removing Stopwords and Punctuations**"
      ],
      "metadata": {
        "id": "O9QBIEquMI5M"
      }
    },
    {
      "cell_type": "code",
      "source": [
        "# Importing stopwords and punctuations\n",
        "from nltk.corpus import stopwords\n",
        "import string               # for punctuations"
      ],
      "metadata": {
        "id": "hILK1XX_JkAV"
      },
      "execution_count": null,
      "outputs": []
    },
    {
      "cell_type": "code",
      "source": [
        "# Getting the English stopwords\n",
        "stopwords_eng = stopwords.words(\"english\")"
      ],
      "metadata": {
        "id": "fUld2b_YJmdX"
      },
      "execution_count": null,
      "outputs": []
    },
    {
      "cell_type": "code",
      "source": [
        "# Creating a function to remove stopwords and punctuations\n",
        "def remove_punc_stopwords(txt):\n",
        "    \"\"\"\n",
        "        1. First we will remove punctutations\n",
        "        2. Then, we will remove stopwords\n",
        "        3. Lastly, we will return the clean word tokens\n",
        "    \"\"\"\n",
        "    nopunc = [char for char in txt if char not in string.punctuation]\n",
        "    no_stops = [word for word in nopunc if word.lower() not in stopwords_eng]\n",
        "    return no_stops"
      ],
      "metadata": {
        "id": "vufSXGQaJqal"
      },
      "execution_count": null,
      "outputs": []
    },
    {
      "cell_type": "code",
      "source": [
        "# Running the function on all word tokens\n",
        "all_words_tokens_cleaned = remove_punc_stopwords(all_words_freq)"
      ],
      "metadata": {
        "id": "cWPlLx7UJraj"
      },
      "execution_count": null,
      "outputs": []
    },
    {
      "cell_type": "code",
      "source": [
        "# Let's see the lengths of the all word tokens list prior and after removing stopwords and punctuations\n",
        "print(\"Original len of all word tokens = \", len(all_words_tokens))\n",
        "print(\"After removal of stopwords and punctuations,  len of all word tokens = \", len(all_words_tokens_cleaned))"
      ],
      "metadata": {
        "colab": {
          "base_uri": "https://localhost:8080/"
        },
        "id": "SvgpwdKgJ851",
        "outputId": "dad8b378-5c09-464b-f080-64e849c7c5c0"
      },
      "execution_count": null,
      "outputs": [
        {
          "output_type": "stream",
          "name": "stdout",
          "text": [
            "Original len of all word tokens =  1583820\n",
            "After removal of stopwords and punctuations,  len of all word tokens =  39586\n"
          ]
        }
      ]
    },
    {
      "cell_type": "code",
      "source": [
        "# Frequency Distribution of all the word tokens after removing punctuations and stopwords\n",
        "all_words_tokens_cleaned_freq = nltk.FreqDist(all_words_tokens_cleaned)"
      ],
      "metadata": {
        "id": "7lMDOUhvJ82I"
      },
      "execution_count": null,
      "outputs": []
    },
    {
      "cell_type": "code",
      "source": [
        "# Now let's see the top 15 most common words \n",
        "all_words_tokens_cleaned_freq.most_common(15)"
      ],
      "metadata": {
        "colab": {
          "base_uri": "https://localhost:8080/"
        },
        "id": "Y1vbX5McJ8xn",
        "outputId": "dd4cbbde-f910-4484-8965-1c002ec4e21e"
      },
      "execution_count": null,
      "outputs": [
        {
          "output_type": "execute_result",
          "data": {
            "text/plain": [
              "[('film', 1),\n",
              " ('one', 1),\n",
              " ('movie', 1),\n",
              " ('like', 1),\n",
              " ('even', 1),\n",
              " ('good', 1),\n",
              " ('time', 1),\n",
              " ('story', 1),\n",
              " ('would', 1),\n",
              " ('much', 1),\n",
              " ('character', 1),\n",
              " ('also', 1),\n",
              " ('get', 1),\n",
              " ('two', 1),\n",
              " ('well', 1)]"
            ]
          },
          "metadata": {},
          "execution_count": 15
        }
      ]
    },
    {
      "cell_type": "code",
      "source": [
        "# Let's check the length of all freq words\n",
        "print(len(all_words_tokens_cleaned_freq))"
      ],
      "metadata": {
        "colab": {
          "base_uri": "https://localhost:8080/"
        },
        "id": "CRm7VF_6J8rH",
        "outputId": "21bec027-1560-4758-b5f7-e908e46ccd36"
      },
      "execution_count": null,
      "outputs": [
        {
          "output_type": "stream",
          "name": "stdout",
          "text": [
            "39586\n"
          ]
        }
      ]
    },
    {
      "cell_type": "code",
      "source": [
        "# Most common words (2000 freq words)\n",
        "most_common_word_tokens = all_words_tokens_cleaned_freq.most_common(2000)\n",
        "\n",
        "# print top 10 most common words\n",
        "print(most_common_word_tokens[:10])"
      ],
      "metadata": {
        "colab": {
          "base_uri": "https://localhost:8080/"
        },
        "id": "fbDYjtalJ8oS",
        "outputId": "2a8c9316-d8ae-43a6-e0d1-f1a2bf2b665f"
      },
      "execution_count": null,
      "outputs": [
        {
          "output_type": "stream",
          "name": "stdout",
          "text": [
            "[('film', 1), ('one', 1), ('movie', 1), ('like', 1), ('even', 1), ('good', 1), ('time', 1), ('story', 1), ('would', 1), ('much', 1)]\n"
          ]
        }
      ]
    },
    {
      "cell_type": "code",
      "source": [
        "# Least 10 freq words (botton 10 common words)\n",
        "print(most_common_word_tokens[1990:])"
      ],
      "metadata": {
        "colab": {
          "base_uri": "https://localhost:8080/"
        },
        "id": "a3lLnZxKJ8lm",
        "outputId": "a2c25eae-1f14-4481-a2b5-ce4a2f68a29e"
      },
      "execution_count": null,
      "outputs": [
        {
          "output_type": "stream",
          "name": "stdout",
          "text": [
            "[('remain', 1), ('anna', 1), ('moved', 1), ('asking', 1), ('genuinely', 1), ('rain', 1), ('path', 1), ('aware', 1), ('causes', 1), ('international', 1)]\n"
          ]
        }
      ]
    },
    {
      "cell_type": "code",
      "source": [
        "# Since the elements of the most_common_word_tokens list are in the form of tuples, we need to extract the first element of each tuple to get the words as word features\n",
        "word_features = [token[0] for token in most_common_word_tokens]\n",
        "\n",
        "# Print out the top 10 word features\n",
        "print(word_features[:10])"
      ],
      "metadata": {
        "colab": {
          "base_uri": "https://localhost:8080/"
        },
        "id": "4L9W2Aa3LfKz",
        "outputId": "84004966-cca9-4865-d99b-996bd725a9e6"
      },
      "execution_count": null,
      "outputs": [
        {
          "output_type": "stream",
          "name": "stdout",
          "text": [
            "['film', 'one', 'movie', 'like', 'even', 'good', 'time', 'story', 'would', 'much']\n"
          ]
        }
      ]
    },
    {
      "cell_type": "code",
      "source": [
        "# Length of the word_features list\n",
        "len(word_features)"
      ],
      "metadata": {
        "colab": {
          "base_uri": "https://localhost:8080/"
        },
        "id": "_vhfUlG1LfH8",
        "outputId": "c2abea15-13e5-4c97-e7a3-a831fc48c0a0"
      },
      "execution_count": null,
      "outputs": [
        {
          "output_type": "execute_result",
          "data": {
            "text/plain": [
              "2000"
            ]
          },
          "metadata": {},
          "execution_count": 20
        }
      ]
    },
    {
      "cell_type": "markdown",
      "source": [
        "**Creating a Feature Set**"
      ],
      "metadata": {
        "id": "sw9IVYcNLl-3"
      }
    },
    {
      "cell_type": "code",
      "source": [
        "# Creating a function to get the features (words) in a dictionary\n",
        "def doc_features(doc):\n",
        "    \n",
        "    # creating a set for all the unique words present in a document\n",
        "    doc_words = set(doc)\n",
        "    \n",
        "    # creating an empty features list\n",
        "    features = {}\n",
        "    \n",
        "    # Will iterate through all the words present in the word_features list\n",
        "    for word in word_features:\n",
        "        \n",
        "        # Get that word and see its presence in the document (will return a bollean value)\n",
        "        features[word] = (word in doc_words)\n",
        "    \n",
        "    return features"
      ],
      "metadata": {
        "id": "boR_Xr5ULfEx"
      },
      "execution_count": null,
      "outputs": []
    },
    {
      "cell_type": "code",
      "source": [
        "# Now, we are going to create a feature set which will contain the word features of the review and its correspoding category\n",
        "feature_sets = [(doc_features(review), category) for (review, category) in documents]"
      ],
      "metadata": {
        "id": "zyg_ynFJLe-L"
      },
      "execution_count": null,
      "outputs": []
    },
    {
      "cell_type": "code",
      "source": [
        "# Print out the first element of the feature set\n",
        "print(feature_sets[0])"
      ],
      "metadata": {
        "colab": {
          "base_uri": "https://localhost:8080/"
        },
        "id": "gFKjOZ3VMsSr",
        "outputId": "418a7c53-df26-4cdb-9089-15995b5d5bc1"
      },
      "execution_count": null,
      "outputs": [
        {
          "output_type": "stream",
          "name": "stdout",
          "text": [
            "({'film': False, 'one': True, 'movie': True, 'like': True, 'even': False, 'good': True, 'time': True, 'story': True, 'would': False, 'much': False, 'character': True, 'also': False, 'get': False, 'two': True, 'well': True, 'characters': True, 'first': True, '--': True, 'see': True, 'way': True, 'make': False, 'life': True, 'really': False, 'films': False, 'plot': False, 'little': True, 'people': True, 'could': False, 'scene': False, 'man': False, 'bad': False, 'never': True, 'best': True, 'new': False, 'scenes': False, 'many': False, 'director': True, 'know': False, 'movies': False, 'action': False, 'great': False, 'another': True, 'love': True, 'go': True, 'made': False, 'us': True, 'big': False, 'end': False, 'something': False, 'back': False, 'still': False, 'world': False, 'seems': False, 'work': False, 'makes': False, 'however': True, 'every': False, 'though': False, 'better': False, 'real': False, 'audience': True, 'enough': False, 'seen': False, 'take': False, 'around': False, 'going': False, 'year': True, 'performance': False, 'role': True, 'old': False, 'gets': True, 'may': True, 'things': True, 'think': False, 'years': False, 'last': False, 'comedy': False, 'funny': False, 'actually': False, 'long': True, 'look': False, 'almost': False, 'thing': False, 'fact': False, 'nothing': False, 'say': False, 'right': False, 'john': False, 'although': True, 'played': False, 'find': False, 'script': True, 'come': True, 'ever': False, 'cast': True, 'since': True, 'star': False, 'plays': True, 'young': True, 'show': False, 'comes': False, 'part': False, 'original': False, 'actors': False, 'screen': True, 'without': False, 'acting': False, 'three': False, 'day': False, 'point': True, 'lot': False, 'least': False, 'takes': False, 'guy': False, 'quite': False, 'away': False, 'family': True, 'effects': False, 'course': False, 'goes': False, 'minutes': True, 'interesting': False, 'might': False, 'far': False, 'high': False, 'rather': False, 'must': False, 'anything': False, 'place': True, 'set': False, 'yet': False, 'watch': False, 'making': False, 'wife': False, 'hard': False, 'always': False, 'fun': False, 'seem': False, 'special': False, 'bit': False, 'times': False, 'trying': False, 'hollywood': False, 'instead': False, 'give': False, 'want': False, 'picture': True, 'kind': False, 'american': False, 'job': False, 'sense': True, 'woman': True, 'home': False, 'series': False, 'actor': True, 'probably': False, 'help': False, 'half': False, 'along': False, 'men': False, 'everything': True, 'pretty': False, 'becomes': True, 'sure': False, 'black': False, 'together': False, 'dialogue': False, 'money': False, 'become': True, 'gives': False, 'given': False, 'looking': False, 'whole': False, 'watching': False, 'father': False, 'feel': False, 'everyone': False, 'music': False, 'wants': False, 'sex': False, 'less': False, 'done': False, 'horror': False, 'got': False, 'death': False, 'perhaps': False, 'city': False, 'next': True, 'especially': False, 'play': False, 'girl': False, 'mind': False, '10': False, 'moments': False, 'looks': True, 'completely': False, '2': False, 'reason': True, 'mother': False, 'whose': False, 'line': False, 'night': False, 'human': False, 'rest': True, 'performances': False, 'different': False, 'evil': False, 'small': False, 'james': False, 'simply': False, 'couple': False, 'put': False, 'let': False, 'anyone': False, 'ending': False, 'case': False, 'several': True, 'dead': True, 'michael': False, 'left': False, 'thought': False, 'school': True, 'shows': False, 'humor': False, 'true': False, 'lost': False, 'written': False, 'friend': False, 'entire': True, 'getting': False, 'town': False, 'turns': True, 'soon': False, 'someone': False, 'second': False, 'main': False, 'stars': False, 'found': False, 'use': False, 'problem': False, 'friends': True, 'tv': False, 'top': False, 'name': False, 'begins': False, 'called': False, 'based': True, 'comic': False, 'david': False, 'head': False, 'else': False, 'idea': False, 'either': False, 'wrong': False, 'unfortunately': True, 'later': False, 'final': False, 'hand': False, 'alien': False, 'house': False, 'group': False, 'full': False, 'used': False, 'tries': True, 'often': False, 'war': False, 'sequence': False, 'keep': False, 'turn': False, 'playing': False, 'boy': False, 'behind': False, 'named': False, 'certainly': False, 'live': False, 'believe': False, 'works': True, 'relationship': False, 'face': False, 'hour': False, 'run': False, 'style': False, 'said': True, 'despite': False, 'person': False, 'finally': False, 'shot': False, 'book': False, 'tell': False, 'maybe': False, 'nice': False, 'son': False, 'perfect': False, 'side': False, 'seeing': False, 'able': False, 'finds': True, 'children': False, 'days': False, 'past': False, 'summer': False, 'camera': False, 'including': False, 'mr': False, 'kids': False, 'lives': False, 'directed': False, 'moment': False, 'game': False, 'running': False, 'fight': False, 'supposed': False, 'video': False, 'car': False, 'matter': False, 'kevin': False, 'joe': False, 'lines': False, 'worth': False, 'daughter': False, 'earth': False, 'starts': False, 'need': False, 'entertaining': False, 'white': False, 'start': False, 'writer': False, 'dark': False, 'short': False, 'self': False, 'worst': False, 'nearly': False, 'opening': False, 'try': True, 'upon': False, 'care': False, 'early': False, 'violence': False, 'throughout': False, 'team': False, 'production': False, 'example': False, 'beautiful': False, 'title': True, 'exactly': False, 'jack': False, 'review': False, 'major': True, 'drama': False, 'problems': False, 'sequences': False, 'obvious': False, 'version': False, 'screenplay': False, 'known': False, 'killer': False, 'robert': False, 'disney': False, 'already': False, 'close': False, 'classic': False, 'others': False, 'hit': False, 'kill': False, 'deep': False, 'five': False, 'order': False, 'act': False, 'simple': False, 'fine': False, 'heart': False, 'roles': False, 'jackie': False, 'direction': False, 'eyes': False, 'four': False, 'question': False, 'sort': False, 'sometimes': False, 'knows': False, 'supporting': False, 'coming': False, 'voice': False, 'women': False, 'truly': True, 'save': False, 'jokes': False, 'computer': False, 'child': False, 'boring': True, 'tom': True, 'level': False, '1': False, 'body': False, 'guys': False, 'genre': False, 'brother': False, 'strong': False, 'stop': False, 'room': False, 'space': False, 'lee': False, 'ends': False, 'beginning': False, 'ship': False, 'york': False, 'attempt': False, 'thriller': False, 'scream': False, 'peter': False, 'husband': False, 'fiction': False, 'happens': False, 'hero': False, 'novel': False, 'note': False, 'hope': False, 'king': False, 'yes': False, 'says': False, 'tells': False, 'quickly': False, 'romantic': False, 'dog': False, 'oscar': True, 'stupid': False, 'possible': False, 'saw': False, 'lead': False, 'career': True, 'murder': False, 'extremely': False, 'manages': False, 'god': False, 'mostly': False, 'wonder': False, 'particularly': False, 'future': False, 'fans': False, 'sound': True, 'worse': False, 'piece': False, 'involving': False, 'de': False, 'appears': False, 'planet': False, 'paul': False, 'involved': False, 'mean': False, 'none': False, 'taking': False, 'hours': True, 'laugh': False, 'police': False, 'sets': False, 'attention': False, 'co': False, 'hell': False, 'eventually': False, 'single': False, 'fall': False, 'falls': True, 'material': False, 'emotional': False, 'power': False, 'late': False, 'lack': True, 'dr': False, 'van': False, 'result': True, 'elements': False, 'meet': False, 'smith': False, 'science': False, 'experience': False, 'bring': False, 'wild': False, 'living': False, 'theater': False, 'interest': True, 'leads': True, 'word': False, 'feature': False, 'battle': False, 'girls': False, 'alone': False, 'obviously': False, 'george': False, 'within': False, 'usually': False, 'enjoy': False, 'guess': False, 'among': False, 'taken': False, 'feeling': True, 'laughs': False, 'aliens': False, 'talk': False, 'chance': False, 'talent': True, '3': False, 'middle': False, 'number': False, 'easy': True, 'across': False, 'needs': False, 'attempts': True, 'happen': False, 'television': False, 'chris': False, 'deal': False, 'poor': False, 'form': False, 'girlfriend': False, 'viewer': False, 'release': False, 'killed': False, 'forced': False, 'whether': True, 'wonderful': False, 'feels': False, 'oh': False, 'tale': False, 'serious': False, 'expect': False, 'except': False, 'light': False, 'success': False, 'features': False, 'premise': False, 'happy': False, 'words': False, 'leave': False, 'important': False, 'meets': True, 'history': False, 'giving': False, 'crew': False, 'type': False, 'call': False, 'turned': False, 'released': False, 'parents': False, 'art': False, 'impressive': False, 'mission': False, 'working': False, 'seemed': False, 'score': False, 'told': True, 'recent': False, 'robin': True, 'basically': False, 'entertainment': True, 'america': False, 'surprise': False, 'apparently': False, 'easily': False, 'ryan': False, 'cool': False, 'stuff': True, 'cop': False, 'change': False, 'williams': True, 'crime': False, 'office': False, 'parts': False, 'somehow': False, 'sequel': False, 'william': False, 'cut': True, 'die': False, 'jones': False, 'credits': False, 'batman': False, 'suspense': False, 'brings': False, 'events': False, 'reality': False, 'local': False, 'talking': False, 'difficult': False, 'using': False, 'went': False, 'writing': False, 'remember': False, 'near': False, 'straight': False, 'hilarious': False, 'ago': False, 'certain': False, 'ben': False, 'kid': False, 'slow': False, 'blood': False, 'mystery': False, 'complete': False, 'red': False, 'popular': False, 'effective': False, 'fast': False, 'flick': False, 'due': False, 'runs': False, 'gone': False, 'return': False, 'presence': True, 'quality': False, 'dramatic': True, 'filmmakers': False, 'age': False, 'brothers': False, 'business': False, 'general': False, 'rock': False, 'sexual': False, 'present': False, 'surprisingly': False, 'anyway': False, 'uses': False, '4': False, 'personal': False, 'figure': False, 'smart': False, 'ways': False, 'decides': False, 'annoying': False, 'begin': False, 'somewhat': False, 'shots': False, 'rich': False, 'minute': False, 'law': False, 'previous': False, 'jim': False, 'successful': False, 'harry': False, 'water': False, 'similar': False, 'absolutely': False, 'motion': False, 'former': False, 'strange': False, 'came': False, 'follow': False, 'read': False, 'project': False, 'million': False, 'secret': False, 'starring': False, 'clear': False, 'familiar': False, 'romance': False, 'intelligent': False, 'third': False, 'excellent': False, 'amazing': False, 'party': False, 'budget': False, 'eye': False, 'actress': False, 'prison': False, 'latest': False, 'means': False, 'company': False, 'towards': False, 'predictable': False, 'powerful': False, 'bob': True, 'beyond': False, 'visual': False, 'leaves': False, 'r': False, 'nature': False, 'following': False, 'villain': True, 'leaving': False, 'animated': False, 'low': False, 'b': False, 'bill': False, 'sam': False, 'filled': False, 'wars': False, 'questions': False, 'cinema': False, 'message': False, 'box': False, 'moving': True, 'country': False, 'usual': False, 'martin': False, 'definitely': False, 'add': False, 'large': True, 'clever': False, 'create': False, 'felt': False, 'stories': False, 'brilliant': False, 'ones': False, 'giant': False, 'situation': False, 'murphy': False, 'break': False, 'opens': False, 'scary': False, 'doubt': False, 'drug': False, 'bunch': False, 'thinking': False, 'solid': True, 'effect': False, 'learn': False, 'move': False, 'force': False, 'potential': False, 'seriously': False, 'follows': False, 'saying': False, 'huge': False, 'class': False, 'plan': False, 'agent': False, 'created': False, 'unlike': False, 'pay': False, 'non': False, 'married': False, 'mark': False, 'sweet': False, 'perfectly': False, 'ex': False, 'realize': False, 'audiences': False, 'took': False, 'decent': False, 'likely': False, 'dream': False, 'view': True, 'scott': False, 'subject': False, 'understand': False, 'happened': False, 'enjoyable': False, 'studio': False, 'immediately': False, 'open': False, 'e': False, 'points': False, 'heard': False, 'viewers': False, 'cameron': False, 'truman': True, 'bruce': False, 'frank': False, 'private': False, 'stay': False, 'fails': True, 'impossible': False, 'cold': False, 'richard': False, 'overall': False, 'merely': False, 'exciting': False, 'mess': False, 'chase': False, 'free': False, 'ten': False, 'neither': False, 'wanted': False, 'gun': False, 'appear': False, 'carter': False, 'escape': False, 'ultimately': False, 'fan': False, 'inside': False, 'favorite': False, 'modern': False, 'l': False, 'wedding': False, 'stone': False, 'trek': False, 'brought': False, 'trouble': False, 'otherwise': False, 'tim': False, '5': False, 'allen': False, 'bond': False, 'society': True, 'liked': False, 'dumb': False, 'musical': False, 'stand': False, 'political': False, 'various': False, 'talented': False, 'particular': True, 'west': False, 'state': True, 'keeps': False, 'english': False, 'silly': False, 'u': False, 'situations': False, 'park': False, 'teen': False, 'rating': False, 'slightly': False, 'steve': False, 'truth': False, 'air': False, 'element': False, 'joke': False, 'spend': False, 'key': False, 'biggest': False, 'members': False, 'effort': False, 'government': False, 'focus': False, 'eddie': False, 'soundtrack': False, 'hands': False, 'earlier': False, 'chan': False, 'purpose': True, 'today': False, 'showing': False, 'memorable': True, 'six': True, 'cannot': False, 'max': False, 'offers': False, 'rated': False, 'mars': False, 'heavy': False, 'totally': False, 'control': False, 'credit': False, 'fi': False, 'woody': False, 'ideas': False, 'sci': False, 'wait': False, 'sit': False, 'female': False, 'ask': False, 'waste': False, 'terrible': False, 'depth': False, 'simon': False, 'aspect': False, 'list': False, 'mary': False, 'sister': False, 'animation': False, 'entirely': False, 'fear': False, 'steven': False, 'moves': False, 'actual': False, 'army': False, 'british': False, 'constantly': False, 'fire': False, 'convincing': False, 'setting': False, 'gave': False, 'tension': False, 'street': False, '8': False, 'brief': False, 'ridiculous': False, 'cinematography': False, 'typical': False, 'nick': False, 'screenwriter': False, 'ability': False, 'spent': False, 'quick': False, 'violent': False, 'atmosphere': False, 'subtle': False, 'expected': False, 'fairly': False, 'seven': False, 'killing': False, 'tone': False, 'master': False, 'disaster': False, 'lots': False, 'thinks': False, 'song': False, 'cheap': False, 'suddenly': False, 'background': False, 'club': False, 'willis': False, 'whatever': False, 'highly': False, 'sees': False, 'complex': False, 'greatest': False, 'impact': False, 'beauty': False, 'front': False, 'humans': False, 'indeed': False, 'flat': False, 'grace': False, 'wrote': False, 'amusing': False, 'ii': False, 'mike': False, 'cute': False, 'dull': False, 'minor': False, 'recently': False, 'hate': False, 'outside': True, 'plenty': False, 'wish': False, 'godzilla': False, 'college': True, 'titanic': False, 'sounds': False, 'telling': False, 'sight': False, 'double': False, 'cinematic': False, 'queen': False, 'hold': False, 'meanwhile': False, 'awful': False, 'clearly': False, 'theme': False, 'hear': False, 'x': False, 'amount': False, 'baby': False, 'approach': False, 'dreams': True, 'shown': False, 'island': False, 'reasons': False, 'charm': False, 'miss': False, 'longer': False, 'common': False, 'sean': False, 'carry': False, 'believable': False, 'realistic': False, 'chemistry': False, 'possibly': False, 'casting': False, 'carrey': False, 'french': False, 'trailer': False, 'tough': False, 'produced': False, 'imagine': False, 'choice': False, 'ride': False, 'somewhere': False, 'hot': False, 'race': False, 'road': False, 'leader': False, 'thin': False, 'jerry': False, 'slowly': False, 'delivers': False, 'detective': False, 'brown': False, 'jackson': False, 'member': False, 'provide': False, 'president': False, 'puts': False, 'asks': False, 'critics': False, 'appearance': True, 'famous': False, 'okay': False, 'intelligence': False, 'energy': False, 'sent': False, 'spielberg': False, 'development': False, 'etc': False, 'language': False, 'blue': False, 'proves': False, 'vampire': False, 'seemingly': False, 'basic': False, 'caught': False, 'decide': False, 'opportunity': False, 'incredibly': False, 'images': False, 'band': False, 'j': False, 'writers': False, 'knew': False, 'interested': False, 'considering': False, 'boys': False, 'thanks': False, 'remains': False, 'climax': False, 'event': False, 'directing': False, 'conclusion': False, 'leading': False, 'ground': False, 'lies': False, 'forget': False, 'alive': False, 'tarzan': False, 'century': False, 'provides': False, 'trip': False, 'partner': False, 'central': False, 'tarantino': False, 'period': False, 'pace': False, 'worked': False, 'ready': False, 'date': False, 'thus': False, '1998': True, 'terrific': False, 'write': False, 'average': False, 'onto': False, 'songs': False, 'occasionally': False, 'doctor': False, 'stands': False, 'hardly': False, 'monster': False, 'led': False, 'mysterious': False, 'details': False, 'wasted': False, 'apart': False, 'aside': False, 'store': False, 'billy': False, 'boss': False, 'travolta': False, 'producer': False, 'pull': False, 'consider': False, 'pictures': False, 'becoming': False, 'cage': False, 'loud': False, 'looked': False, 'officer': False, 'twenty': False, 'system': False, 'contains': False, 'julia': False, 'subplot': False, 'missing': False, 'personality': False, 'building': True, 'learns': False, 'hong': False, 'la': False, 'apartment': False, '7': False, 'bizarre': False, 'powers': False, 'flaws': False, 'catch': False, 'lawyer': False, 'shoot': False, 'student': False, 'unique': False, '000': False, 'admit': False, 'concept': False, 'needed': False, 'thrown': False, 'christopher': False, 'laughing': False, 'green': False, 'twists': False, 'matthew': False, 'touch': False, 'waiting': False, 'victim': False, 'cover': False, 'machine': False, 'danny': False, 'mention': False, 'search': False, '1997': False, 'win': False, 'door': False, 'manner': True, 'train': False, 'saving': False, 'share': False, 'image': False, 'discovers': True, 'normal': False, 'cross': False, 'fox': False, 'returns': False, 'adult': False, 'adds': False, 'answer': False, 'adventure': False, 'lame': False, 'male': False, 'odd': False, 'singer': False, 'deserves': False, 'gore': False, 'states': False, 'include': False, 'equally': False, 'months': False, 'barely': False, 'directors': False, 'introduced': True, 'fashion': False, 'social': False, '1999': False, 'news': False, 'hair': True, 'dance': False, 'innocent': False, 'camp': False, 'teacher': False, 'became': False, 'sad': False, 'witch': False, 'includes': False, 'nights': False, 'jason': False, 'julie': False, 'latter': False, 'food': False, 'jennifer': False, 'land': False, 'menace': False, 'rate': False, 'storyline': False, 'contact': False, 'jean': False, 'elizabeth': False, 'fellow': False, 'changes': False, 'henry': False, 'hill': False, 'pulp': False, 'gay': False, 'tried': False, 'surprised': False, 'literally': False, 'walk': False, 'standard': False, '90': False, 'forward': False, 'wise': False, 'enjoyed': False, 'discover': False, 'pop': False, 'anderson': False, 'offer': False, 'recommend': False, 'public': False, 'drive': False, 'c': False, 'toy': False, 'charming': False, 'fair': False, 'chinese': False, 'rescue': False, 'terms': False, 'mouth': False, 'lucas': False, 'accident': False, 'dies': False, 'decided': False, 'edge': False, 'footage': False, 'culture': False, 'weak': False, 'presented': False, 'blade': False, 'younger': False, 'douglas': False, 'natural': False, 'born': False, 'generally': False, 'teenage': False, 'older': False, 'horrible': False, 'addition': False, 'sadly': False, 'creates': False, 'disturbing': False, 'roger': False, 'detail': False, 'devil': False, 'debut': False, 'track': False, 'developed': False, 'week': False, 'russell': False, 'attack': False, 'explain': False, 'rarely': True, 'fully': False, 'prove': False, 'exception': False, 'jeff': False, 'twist': False, 'gang': False, 'winning': False, 'jr': False, 'species': False, 'issues': False, 'fresh': False, 'rules': False, 'meaning': False, 'inspired': False, 'heroes': False, 'desperate': False, 'fighting': False, 'filmed': False, 'faces': False, 'alan': False, 'bright': False, 'ass': False, 'flying': False, 'kong': False, 'rush': False, 'forces': False, 'charles': False, 'numerous': False, 'emotions': False, 'involves': False, 'patrick': False, 'weird': False, 'apparent': False, 'information': False, 'revenge': False, 'jay': False, 'toward': True, 'surprising': False, 'twice': False, 'editing': False, 'calls': False, 'lose': False, 'vegas': False, 'stage': False, 'intended': False, 'gags': False, 'opinion': False, 'likes': False, 'crazy': False, 'owner': False, 'places': False, 'pair': False, 'genuine': False, 'epic': False, 'speak': False, 'throw': False, 'appeal': False, 'gibson': False, 'captain': False, 'military': False, '20': False, 'blair': False, 'nowhere': False, 'length': True, 'nicely': False, 'cause': False, 'pass': False, 'episode': False, 'kiss': False, 'arnold': False, 'please': False, 'phone': False, 'filmmaking': False, 'formula': False, 'boyfriend': False, 'talents': False, 'creating': False, 'kelly': False, 'buy': False, 'wide': False, 'fantasy': False, 'mood': False, 'heads': False, 'pathetic': False, 'lacks': False, 'loved': False, 'asked': False, 'mrs': True, 'witty': False, 'shakespeare': False, 'mulan': False, 'generation': False, 'affair': False, 'pieces': False, 'task': False, 'rare': False, 'kept': False, 'cameo': False, 'fascinating': False, 'ed': False, 'fbi': False, 'burton': False, 'incredible': False, 'accent': False, 'artist': False, 'superior': False, 'academy': True, 'thomas': False, 'spirit': False, 'technical': False, 'confusing': False, 'poorly': False, 'target': False, 'lover': False, 'woo': False, 'mentioned': False, 'theaters': False, 'plane': False, 'confused': False, 'dennis': False, 'rob': False, 'appropriate': False, 'christmas': False, 'considered': False, 'legend': False, 'shame': False, 'soul': False, 'matt': False, 'campbell': False, 'process': False, 'bottom': False, 'sitting': False, 'brain': False, 'creepy': False, '13': False, 'forever': False, 'dude': False, 'crap': False, 'superb': False, 'speech': False, 'ice': False, 'journey': False, 'masterpiece': False, 'intriguing': False, 'names': False, 'pick': False, 'speaking': False, 'virtually': False, 'award': True, 'worthy': True, 'marriage': False, 'deliver': False, 'cash': False, 'magic': False, 'respect': False, 'product': False, 'necessary': False, 'suppose': False, 'silent': False, 'pointless': False, 'station': False, 'affleck': False, 'dimensional': False, 'charlie': False, 'allows': False, 'avoid': False, 'meant': False, 'cops': False, 'attitude': False, 'relationships': True, 'hits': False, 'stephen': False, 'spends': False, 'relief': False, 'physical': False, 'count': False, 'reviews': False, 'appreciate': False, 'cliches': False, 'holds': False, 'pure': False, 'plans': False, 'limited': False, 'failed': False, 'pain': False, 'impression': False, 'unless': False, 'sub': False, 'total': False, 'creature': False, 'viewing': False, 'loves': False, 'princess': False, 'kate': False, 'rising': False, 'woods': False, 'baldwin': False, 'angry': False, 'drawn': False, 'step': False, 'matrix': False, 'themes': False, 'satire': False, 'arts': False, 'remake': False, 'wall': False, 'moral': False, 'color': False, 'ray': False, 'stuck': False, 'touching': False, 'wit': False, 'tony': False, 'hanks': False, 'continues': False, 'damn': False, 'nobody': False, 'cartoon': False, 'keeping': False, 'realized': False, 'criminal': False, 'unfunny': False, 'comedic': True, 'martial': False, 'disappointing': False, 'anti': False, 'graphic': False, 'stunning': False, 'actions': False, 'floor': False, 'emotion': False, 'soldiers': False, 'edward': False, 'comedies': False, 'driver': False, 'expectations': False, 'added': False, 'mad': False, 'angels': False, 'shallow': False, 'suspect': False, 'humorous': False, 'phantom': False, 'appealing': False, 'device': False, 'design': False, 'industry': False, 'reach': False, 'fat': False, 'blame': False, 'united': False, 'sign': False, 'portrayal': False, 'rocky': False, 'finale': False, 'grand': False, 'opposite': False, 'hotel': False, 'match': False, 'damme': False, 'speed': False, 'ok': False, 'loving': False, 'field': False, 'larry': False, 'urban': False, 'troopers': False, 'compared': False, 'apes': False, 'rose': False, 'falling': False, 'era': False, 'loses': False, 'adults': False, 'managed': False, 'dad': False, 'therefore': False, 'pg': False, 'results': False, 'guns': False, 'radio': False, 'lady': False, 'manage': False, 'spice': False, 'naked': False, 'started': False, 'intense': False, 'humanity': True, 'wonderfully': False, 'slasher': False, 'bland': False, 'imagination': False, 'walking': False, 'willing': False, 'horse': False, 'rent': False, 'mix': False, 'generated': False, 'g': False, 'utterly': False, 'scientist': False, 'washington': False, 'notice': False, 'players': False, 'teenagers': False, 'moore': False, 'board': True, 'price': False, 'frightening': False, 'tommy': False, 'spectacular': False, 'bored': False, 'jane': False, 'join': False, 'producers': False, 'johnny': False, 'zero': False, 'vampires': False, 'adaptation': False, 'dollars': False, 'parody': False, 'documentary': False, 'dvd': False, 'wayne': False, 'post': False, 'exist': False, 'matters': False, 'chosen': False, 'mel': False, 'attractive': False, 'plain': False, 'trust': False, 'safe': False, 'reading': False, 'hoping': False, 'protagonist': False, 'feelings': False, 'fate': False, 'finding': False, 'feet': False, 'visuals': False, 'spawn': False, 'compelling': False, 'hall': False, 'sympathetic': False, 'featuring': False, 'difference': False, 'professional': False, 'drugs': False, 'ford': False, 'shooting': False, 'gold': False, 'patch': True, 'build': False, 'boat': False, 'cruise': False, 'honest': False, 'media': False, 'flicks': False, 'bug': False, 'bringing': False, 'dangerous': False, 'watched': False, 'grant': False, 'smile': False, 'plus': False, 'decision': False, 'visually': False, 'allow': False, 'starship': False, 'roberts': False, 'dying': False, 'portrayed': False, 'turning': False, 'believes': False, 'changed': False, 'shock': False, 'destroy': False, '30': False, 'crowd': False, 'broken': False, 'tired': False, 'fail': False, 'south': False, 'died': False, 'cult': False, 'fake': False, 'vincent': False, 'identity': False, 'sexy': False, 'hunt': False, 'jedi': False, 'flynt': False, 'alex': False, 'engaging': False, 'serve': False, 'snake': False, 'yeah': False, 'expecting': False, '100': False, 'decade': False, 'ups': False, 'constant': False, 'current': False, 'survive': False, 'jimmy': False, 'buddy': False, 'send': False, 'brooks': False, 'goofy': False, 'likable': False, 'humour': False, 'technology': False, 'files': False, 'babe': False, 'aspects': False, 'presents': False, 'kills': False, 'supposedly': False, 'eight': False, 'sandler': False, 'hospital': False, 'test': False, 'hidden': False, 'brian': False, 'books': False, 'promise': False, 'determined': False, 'professor': True, 'welcome': False, 'pleasure': False, 'succeeds': True, 'individual': False, 'annie': False, 'mob': False, 'ted': False, 'virus': False, 'content': False, 'gary': False, 'direct': False, 'contrived': False, 'carpenter': False, 'scale': False, 'sick': False, 'nasty': False, 'conflict': False, 'haunting': False, 'ghost': False, 'filmmaker': False, 'japanese': False, 'helps': False, 'fare': False, 'lucky': False, 'ultimate': False, 'window': False, 'support': False, 'goal': False, 'provided': False, 'genius': False, 'winner': False, 'taylor': False, 'fantastic': False, 'faith': False, 'lynch': False, 'fit': False, 'catherine': False, 'ms': False, 'paced': False, 'breaks': False, 'al': False, 'frame': False, 'travel': False, 'badly': False, 'available': False, 'cares': False, 'reeves': False, 'crash': False, 'driving': False, 'press': False, 'seagal': False, 'amy': False, '9': False, 'headed': False, 'instance': False, 'excuse': False, 'offensive': False, 'narrative': True, 'fault': False, 'bus': False, 'f': False, 'extreme': False, 'miller': False, 'guilty': False, 'grows': False, 'overly': False, 'liners': False, 'forgotten': False, 'ahead': False, 'accept': False, 'porn': False, 'directly': False, 'helen': False, 'began': False, 'lord': False, 'folks': False, 'mediocre': False, 'bar': False, 'surface': False, 'super': False, 'failure': False, '6': False, 'acted': False, 'quiet': False, 'laughable': False, 'sheer': False, 'security': False, 'emotionally': True, 'season': True, 'stuart': False, 'jail': False, 'deals': False, 'cheesy': False, 'court': False, 'beach': False, 'austin': False, 'model': False, 'outstanding': False, 'substance': False, 'nudity': False, 'slapstick': False, 'joan': False, 'reveal': False, 'placed': False, 'check': False, 'beast': False, 'hurt': False, 'bloody': False, 'acts': False, 'fame': False, 'meeting': False, 'nuclear': False, '1996': False, 'strength': False, 'center': False, 'funniest': False, 'standing': False, 'damon': False, 'clich': False, 'position': False, 'desire': False, 'driven': False, 'seat': False, 'stock': False, 'wondering': False, 'realizes': False, 'dealing': False, 'taste': False, 'routine': False, 'comparison': False, 'cinematographer': False, 'seconds': False, 'singing': False, 'gangster': False, 'responsible': False, 'football': False, 'remarkable': False, 'hunting': True, 'adams': True, 'fly': False, 'suspects': False, 'treat': False, 'hopes': False, 'heaven': False, 'myers': False, 'struggle': False, 'costumes': False, 'beat': False, 'happening': False, 'skills': False, 'ugly': False, 'figures': False, 'thoroughly': False, 'ill': False, 'surprises': False, 'player': False, 'rival': False, 'guard': False, 'anthony': False, 'strike': False, 'community': False, 'streets': False, 'hopkins': False, 'ended': False, 'originally': False, 'sarah': False, 'creative': False, 'characterization': False, 'thankfully': False, 'growing': False, 'sharp': False, 'williamson': False, 'eccentric': False, 'explained': False, 'hey': False, 'claire': False, 'steal': False, 'inevitable': False, 'joel': False, 'core': False, 'sorry': False, 'built': False, 'anne': False, 'breaking': False, 'villains': False, 'critic': False, 'lets': False, 'visit': False, 'followed': False, 'serial': False, 'value': False, 'missed': False, 'oliver': False, 'hollow': False, 'sea': False, 'animal': False, 'freeman': False, 'animals': False, 'crystal': False, 'sidney': False, 'lacking': False, 'students': False, 'continue': False, 'extra': False, 'scorsese': False, 'church': False, 'stick': False, 'explanation': False, 'hip': False, 'quest': False, 'mistake': False, 'jump': False, 'fights': False, 'cusack': False, 'included': True, 'draw': False, '15': False, 'games': False, '1995': False, 'judge': False, 'gotten': False, 'chief': False, 'derek': False, 'thirty': False, 'record': False, 'everybody': False, 'veteran': False, 'develop': False, 'knowledge': False, 'serves': False, 'boogie': False, 'arrives': False, 'clooney': False, 'enter': False, 'russian': False, 'obsessed': False, 'vision': False, 'screenwriters': False, 'luck': False, 'holes': False, 'religious': False, 'witness': False, 'flashbacks': False, 'heavily': False, 'frequently': False, 'capable': False, 'armageddon': False, 'pacing': False, 'rise': False, 'mainly': False, 'fill': False, 'barry': False, 'schwarzenegger': False, 'clean': True, 'previously': False, 'grow': False, 'keaton': False, 'empty': False, 'synopsis': False, 'victims': False, 'adam': False, 'bed': False, 'lawrence': False, 'stallone': False, 'hunter': True, 'memory': False, 'suit': False, 'bobby': False, 'tragedy': False, 'saved': False, 'spot': False, 'unexpected': False, 'encounter': False, 'hearted': False, 'bacon': False, 'disappointment': False, 'bigger': False, 'noir': False, 'nicholson': False, 'evidence': False, 'relatively': False, 'morning': False, 'andrew': False, 'range': False, 'numbers': False, 'walter': False, 'vehicle': False, 'pulled': False, 'describe': False, 'cliched': False, 'sky': False, 'efforts': False, 'logic': False, 'verhoeven': False, 'assistant': False, 'existence': False, 'worker': False, 'freedom': False, 'theatre': False, 'wood': False, 'warm': False, 'fish': False, 'ripley': False, 'mental': True, 'study': False, 'justice': False, 'cliche': False, 'foot': False, 'jonathan': False, 'grown': False, 'unnecessary': False, 'rip': False, 'learned': False, 'skin': False, 'talks': False, 'ball': False, 'alice': False, 'roll': False, 'weeks': False, 'jon': False, 'courtroom': False, 'positive': True, 'putting': False, 'connection': False, 'london': True, 'angel': False, 'contrast': False, 'exact': False, 'fifteen': False, 'eric': False, 'prince': False, 'bound': False, 'traditional': False, 'regular': False, 'eve': False, 'niro': False, 'las': False, 'remain': False, 'anna': False, 'moved': False, 'asking': False, 'genuinely': False, 'rain': False, 'path': False, 'aware': False, 'causes': False, 'international': False}, 'pos')\n"
          ]
        }
      ]
    },
    {
      "cell_type": "markdown",
      "source": [
        "**Model Training**\n",
        "\n",
        "Now, we will create training and testing sets."
      ],
      "metadata": {
        "id": "wzcInCmlSxMi"
      }
    },
    {
      "cell_type": "code",
      "source": [
        "# Training set and Testing set\n",
        "train_data = feature_sets[:1600]\n",
        "test_data = feature_sets[1600:]"
      ],
      "metadata": {
        "id": "sT3xbrqiMxO3"
      },
      "execution_count": null,
      "outputs": []
    },
    {
      "cell_type": "code",
      "source": [
        "# Length of training set\n",
        "len(train_data)"
      ],
      "metadata": {
        "id": "qAGGoSKUS5Nx",
        "colab": {
          "base_uri": "https://localhost:8080/"
        },
        "outputId": "1ac8a695-4196-43b6-dbff-99fde3146692"
      },
      "execution_count": null,
      "outputs": [
        {
          "output_type": "execute_result",
          "data": {
            "text/plain": [
              "1600"
            ]
          },
          "metadata": {},
          "execution_count": 25
        }
      ]
    },
    {
      "cell_type": "code",
      "source": [
        "# Length of testing set\n",
        "len(test_data)"
      ],
      "metadata": {
        "id": "WRxLyI7FS6-W",
        "colab": {
          "base_uri": "https://localhost:8080/"
        },
        "outputId": "60cc6498-45ef-43c3-9e74-ee3c9427e548"
      },
      "execution_count": null,
      "outputs": [
        {
          "output_type": "execute_result",
          "data": {
            "text/plain": [
              "400"
            ]
          },
          "metadata": {},
          "execution_count": 26
        }
      ]
    },
    {
      "cell_type": "code",
      "source": [
        "(1600/2000, 400/2000)"
      ],
      "metadata": {
        "id": "E6jwXl-7S8_p",
        "colab": {
          "base_uri": "https://localhost:8080/"
        },
        "outputId": "879df6df-85bc-41e8-fa6a-d8bb87a3eb4d"
      },
      "execution_count": null,
      "outputs": [
        {
          "output_type": "execute_result",
          "data": {
            "text/plain": [
              "(0.8, 0.2)"
            ]
          },
          "metadata": {},
          "execution_count": 27
        }
      ]
    },
    {
      "cell_type": "markdown",
      "source": [
        "We will be using the **Naive Bayes Classifier** for our training."
      ],
      "metadata": {
        "id": "rnkA1fvbTAA3"
      }
    },
    {
      "cell_type": "code",
      "source": [
        "# Importing the NaiveBayesClassifier from nltk\n",
        "from nltk import NaiveBayesClassifier\n",
        "\n",
        "# Creating an instance of our classifier and training the model\n",
        "base_model = NaiveBayesClassifier.train(train_data)"
      ],
      "metadata": {
        "id": "x85JoqCDS-Ia"
      },
      "execution_count": null,
      "outputs": []
    },
    {
      "cell_type": "code",
      "source": [
        "# Importing classify from nltk\n",
        "from nltk import classify\n",
        "\n",
        "# Calculating the accuracy of the base model \n",
        "accuracy_score = classify.accuracy(base_model, test_data)\n",
        "print(\"Accuracy Score of Base Model : {}%\".format(100 * accuracy_score))"
      ],
      "metadata": {
        "id": "pwxyrgQES-E7",
        "colab": {
          "base_uri": "https://localhost:8080/"
        },
        "outputId": "ba5c19bc-333f-4cac-e066-ae1d92ae9e43"
      },
      "execution_count": null,
      "outputs": [
        {
          "output_type": "stream",
          "name": "stdout",
          "text": [
            "Accuracy Score of Base Model : 87.25%\n"
          ]
        }
      ]
    },
    {
      "cell_type": "code",
      "source": [
        "# Show 10 most informative features\n",
        "print(base_model.show_most_informative_features(10))"
      ],
      "metadata": {
        "id": "r6wfgZYLS-B9",
        "colab": {
          "base_uri": "https://localhost:8080/"
        },
        "outputId": "c0f58797-ab87-4273-a632-a9a02d53f48f"
      },
      "execution_count": null,
      "outputs": [
        {
          "output_type": "stream",
          "name": "stdout",
          "text": [
            "Most Informative Features\n",
            "             outstanding = True              pos : neg    =     10.7 : 1.0\n",
            "             wonderfully = True              pos : neg    =      8.2 : 1.0\n",
            "                  seagal = True              neg : pos    =      7.3 : 1.0\n",
            "                   damon = True              pos : neg    =      5.5 : 1.0\n",
            "               laughable = True              neg : pos    =      5.5 : 1.0\n",
            "                  wasted = True              neg : pos    =      5.3 : 1.0\n",
            "                    lame = True              neg : pos    =      5.2 : 1.0\n",
            "                   waste = True              neg : pos    =      5.1 : 1.0\n",
            "                 unfunny = True              neg : pos    =      4.9 : 1.0\n",
            "              ridiculous = True              neg : pos    =      4.9 : 1.0\n",
            "None\n"
          ]
        }
      ]
    },
    {
      "cell_type": "markdown",
      "source": [
        "**Saving our classifier**\n",
        "\n",
        "We will be uisng pickle."
      ],
      "metadata": {
        "id": "O6zTFQ2qTqZY"
      }
    },
    {
      "cell_type": "code",
      "source": [
        "# Importing pickle\n",
        "import pickle"
      ],
      "metadata": {
        "id": "RPGJVGBnTWsR"
      },
      "execution_count": null,
      "outputs": []
    },
    {
      "cell_type": "code",
      "source": [
        "# Saving classifier with pickle\n",
        "save_classifier = open(\"naivebayes.pickle\",\"wb\")\n",
        "pickle.dump(base_model, save_classifier)\n",
        "save_classifier.close()"
      ],
      "metadata": {
        "id": "T2V6d_i8T3dI"
      },
      "execution_count": null,
      "outputs": []
    },
    {
      "cell_type": "code",
      "source": [
        "# Loading the saved classifier\n",
        "classifier_f = open(\"naivebayes.pickle\", \"rb\")\n",
        "classifier = pickle.load(classifier_f)\n",
        "classifier_f.close()"
      ],
      "metadata": {
        "id": "LViapWZ8W2B6"
      },
      "execution_count": null,
      "outputs": []
    },
    {
      "cell_type": "code",
      "source": [],
      "metadata": {
        "id": "CIGaV271W714"
      },
      "execution_count": null,
      "outputs": []
    }
  ]
}
