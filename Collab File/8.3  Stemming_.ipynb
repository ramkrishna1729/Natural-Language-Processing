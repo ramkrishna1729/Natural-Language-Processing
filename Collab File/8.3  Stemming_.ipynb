{
  "nbformat": 4,
  "nbformat_minor": 0,
  "metadata": {
    "colab": {
      "provenance": []
    },
    "kernelspec": {
      "name": "python3",
      "display_name": "Python 3"
    },
    "language_info": {
      "name": "python"
    }
  },
  "cells": [
    {
      "cell_type": "code",
      "execution_count": null,
      "metadata": {
        "id": "zMDjgG7ulEzl"
      },
      "outputs": [],
      "source": [
        "import nltk\n",
        "from nltk.stem import PorterStemmer\n",
        "from nltk.tokenize import word_tokenize"
      ]
    },
    {
      "cell_type": "code",
      "source": [
        "ps = PorterStemmer()\n",
        "nltk.download('punkt')"
      ],
      "metadata": {
        "colab": {
          "base_uri": "https://localhost:8080/"
        },
        "id": "-uz2UzWdq-9u",
        "outputId": "9b2e540a-cad3-4afd-c9eb-d96fffde07f6"
      },
      "execution_count": null,
      "outputs": [
        {
          "output_type": "stream",
          "name": "stderr",
          "text": [
            "[nltk_data] Downloading package punkt to /root/nltk_data...\n",
            "[nltk_data]   Unzipping tokenizers/punkt.zip.\n"
          ]
        },
        {
          "output_type": "execute_result",
          "data": {
            "text/plain": [
              "True"
            ]
          },
          "metadata": {},
          "execution_count": 13
        }
      ]
    },
    {
      "cell_type": "code",
      "source": [
        "sent1 =\"i am a overthinker so i think a lot  when it comes to thinking , ya i know i have thinked it over many times that things need not ot be thinked\"\n",
        "words = word_tokenize(sent1)\n",
        "print(words)"
      ],
      "metadata": {
        "colab": {
          "base_uri": "https://localhost:8080/"
        },
        "id": "tc3CPtu8sTVu",
        "outputId": "dba868ac-3d2a-4b1a-9df5-5717861ae807"
      },
      "execution_count": null,
      "outputs": [
        {
          "output_type": "stream",
          "name": "stdout",
          "text": [
            "['i', 'am', 'a', 'overthinker', 'so', 'i', 'think', 'a', 'lot', 'when', 'it', 'comes', 'to', 'thinking', ',', 'ya', 'i', 'know', 'i', 'have', 'thinked', 'it', 'over', 'many', 'times', 'that', 'things', 'need', 'not', 'ot', 'be', 'thinked']\n"
          ]
        }
      ]
    },
    {
      "cell_type": "code",
      "source": [
        "for w in words :\n",
        "   print(ps.stem(w ))"
      ],
      "metadata": {
        "colab": {
          "base_uri": "https://localhost:8080/"
        },
        "id": "WDYf1Q5ytQHk",
        "outputId": "e7650b2b-5e38-41bc-a2f1-da7f29380bbb"
      },
      "execution_count": null,
      "outputs": [
        {
          "output_type": "stream",
          "name": "stdout",
          "text": [
            "i\n",
            "am\n",
            "a\n",
            "overthink\n",
            "so\n",
            "i\n",
            "think\n",
            "a\n",
            "lot\n",
            "when\n",
            "it\n",
            "come\n",
            "to\n",
            "think\n",
            ",\n",
            "ya\n",
            "i\n",
            "know\n",
            "i\n",
            "have\n",
            "think\n",
            "it\n",
            "over\n",
            "mani\n",
            "time\n",
            "that\n",
            "thing\n",
            "need\n",
            "not\n",
            "ot\n",
            "be\n",
            "think\n"
          ]
        }
      ]
    }
  ]
}
