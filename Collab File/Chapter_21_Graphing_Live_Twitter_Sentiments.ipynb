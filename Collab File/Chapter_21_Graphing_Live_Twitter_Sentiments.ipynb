{
  "cells": [
    {
      "cell_type": "markdown",
      "source": [
        "**The below lines of code don't actually work in a colab notebook. So instead try to use the following lines of code and implement them in a local environment like Visual Studio Code etc.**\n",
        "\n",
        "**So Run this file in a local environmemt.**"
      ],
      "metadata": {
        "id": "4-nW3B_d97fY"
      }
    },
    {
      "cell_type": "code",
      "execution_count": null,
      "metadata": {
        "id": "j9KJsJL49Tx5"
      },
      "outputs": [],
      "source": [
        "# Importing required modules\n",
        "import matplotlib.pyplot as plt\n",
        "import matplotlib.animation as animation\n",
        "from matplotlib import style\n",
        "import time\n",
        "\n",
        "# Using 'ggplot' as style for our plot \n",
        "style.use(\"ggplot\")\n",
        "\n",
        "# Setting the figures and figure size\n",
        "fig = plt.figure(figsize=(8, 6))\n",
        "\n",
        "# Setting the axis\n",
        "ax1 = fig.add_subplot(1,1,1)\n",
        "\n",
        "# Defining our animate function to graph the real time tweets \n",
        "def animate(i):\n",
        "\n",
        "    # Opening the text file and reading it\n",
        "    pullData = open(\"twitter-out.txt\",\"r\").read()\n",
        "\n",
        "    # Storing the data by splitting new lines for each data point\n",
        "    lines = pullData.split('\\n')\n",
        "\n",
        "    # Will store the values of the graph (x and y arrays) in a list\n",
        "    xar = []\n",
        "    yar = []\n",
        "\n",
        "    # Initial points\n",
        "    x = 0\n",
        "    y = 0\n",
        "\n",
        "    # For each element of the lines list \n",
        "    for l in lines[-200:]:\n",
        "        # we will first increase the x coordinate by 1 unit\n",
        "        x += 1\n",
        "        if \"pos\" in l:\n",
        "            # we will increment the y coordinate by 3 units for positive sentiment\n",
        "            y += 3\n",
        "        elif \"neg\" in l:\n",
        "            # we will increment the y coordinate by 3 units for positive sentiment\n",
        "            y -= 3\n",
        "\n",
        "        # appending x and y coordinates in the x array and y array\n",
        "        xar.append(x)\n",
        "        yar.append(y)\n",
        "\n",
        "    # clearing the plot for getting only one colour plot    \n",
        "    ax1.clear()\n",
        "    ax1.plot(xar,yar)\n",
        "\n",
        "# creating an instance of FuncAnimation by passing the fig, animate and interval of 1sec (1000ms)\n",
        "ani = animation.FuncAnimation(fig, animate, interval=1000)\n",
        "plt.show()"
      ]
    }
  ],
  "metadata": {
    "language_info": {
      "name": "python"
    },
    "orig_nbformat": 4,
    "colab": {
      "provenance": []
    }
  },
  "nbformat": 4,
  "nbformat_minor": 0
}
