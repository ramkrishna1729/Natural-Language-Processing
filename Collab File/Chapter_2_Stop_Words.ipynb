{
  "nbformat": 4,
  "nbformat_minor": 0,
  "metadata": {
    "colab": {
      "provenance": []
    },
    "kernelspec": {
      "name": "python3",
      "display_name": "Python 3"
    },
    "language_info": {
      "name": "python"
    }
  },
  "cells": [
    {
      "cell_type": "code",
      "execution_count": null,
      "metadata": {
        "id": "AO-HqOwSwuLf"
      },
      "outputs": [],
      "source": [
        "# Importing nltk library\n",
        "import nltk"
      ]
    },
    {
      "cell_type": "code",
      "source": [
        "#download stopwords module from nltk libraries and  punkt to convert text into sentences\n",
        "nltk.download('stopwords')\n",
        "nltk.download('punkt')"
      ],
      "metadata": {
        "colab": {
          "base_uri": "https://localhost:8080/"
        },
        "id": "qv_RlpHobjOu",
        "outputId": "e6d0ea1d-de5e-42e0-ad8c-0d38185eec19"
      },
      "execution_count": null,
      "outputs": [
        {
          "output_type": "stream",
          "name": "stderr",
          "text": [
            "[nltk_data] Downloading package stopwords to /root/nltk_data...\n",
            "[nltk_data]   Unzipping corpora/stopwords.zip.\n",
            "[nltk_data] Downloading package punkt to /root/nltk_data...\n",
            "[nltk_data]   Unzipping tokenizers/punkt.zip.\n"
          ]
        },
        {
          "output_type": "execute_result",
          "data": {
            "text/plain": [
              "True"
            ]
          },
          "metadata": {},
          "execution_count": 5
        }
      ]
    },
    {
      "cell_type": "code",
      "source": [
        "# import stopwords from the nltk library\n",
        "from nltk.corpus import stopwords"
      ],
      "metadata": {
        "id": "XyY8-qVico65"
      },
      "execution_count": null,
      "outputs": []
    },
    {
      "cell_type": "code",
      "source": [
        "# now we will set the sentence language in english ,they have predefined keywords\n",
        "stop_words = stopwords.words('english')\n",
        "stopwords.words('english')"
      ],
      "metadata": {
        "colab": {
          "base_uri": "https://localhost:8080/"
        },
        "id": "shg4szNlcyCc",
        "outputId": "16f1bf37-f6ed-4cb4-edcc-80cdb5670b91"
      },
      "execution_count": null,
      "outputs": [
        {
          "output_type": "execute_result",
          "data": {
            "text/plain": [
              "['i',\n",
              " 'me',\n",
              " 'my',\n",
              " 'myself',\n",
              " 'we',\n",
              " 'our',\n",
              " 'ours',\n",
              " 'ourselves',\n",
              " 'you',\n",
              " \"you're\",\n",
              " \"you've\",\n",
              " \"you'll\",\n",
              " \"you'd\",\n",
              " 'your',\n",
              " 'yours',\n",
              " 'yourself',\n",
              " 'yourselves',\n",
              " 'he',\n",
              " 'him',\n",
              " 'his',\n",
              " 'himself',\n",
              " 'she',\n",
              " \"she's\",\n",
              " 'her',\n",
              " 'hers',\n",
              " 'herself',\n",
              " 'it',\n",
              " \"it's\",\n",
              " 'its',\n",
              " 'itself',\n",
              " 'they',\n",
              " 'them',\n",
              " 'their',\n",
              " 'theirs',\n",
              " 'themselves',\n",
              " 'what',\n",
              " 'which',\n",
              " 'who',\n",
              " 'whom',\n",
              " 'this',\n",
              " 'that',\n",
              " \"that'll\",\n",
              " 'these',\n",
              " 'those',\n",
              " 'am',\n",
              " 'is',\n",
              " 'are',\n",
              " 'was',\n",
              " 'were',\n",
              " 'be',\n",
              " 'been',\n",
              " 'being',\n",
              " 'have',\n",
              " 'has',\n",
              " 'had',\n",
              " 'having',\n",
              " 'do',\n",
              " 'does',\n",
              " 'did',\n",
              " 'doing',\n",
              " 'a',\n",
              " 'an',\n",
              " 'the',\n",
              " 'and',\n",
              " 'but',\n",
              " 'if',\n",
              " 'or',\n",
              " 'because',\n",
              " 'as',\n",
              " 'until',\n",
              " 'while',\n",
              " 'of',\n",
              " 'at',\n",
              " 'by',\n",
              " 'for',\n",
              " 'with',\n",
              " 'about',\n",
              " 'against',\n",
              " 'between',\n",
              " 'into',\n",
              " 'through',\n",
              " 'during',\n",
              " 'before',\n",
              " 'after',\n",
              " 'above',\n",
              " 'below',\n",
              " 'to',\n",
              " 'from',\n",
              " 'up',\n",
              " 'down',\n",
              " 'in',\n",
              " 'out',\n",
              " 'on',\n",
              " 'off',\n",
              " 'over',\n",
              " 'under',\n",
              " 'again',\n",
              " 'further',\n",
              " 'then',\n",
              " 'once',\n",
              " 'here',\n",
              " 'there',\n",
              " 'when',\n",
              " 'where',\n",
              " 'why',\n",
              " 'how',\n",
              " 'all',\n",
              " 'any',\n",
              " 'both',\n",
              " 'each',\n",
              " 'few',\n",
              " 'more',\n",
              " 'most',\n",
              " 'other',\n",
              " 'some',\n",
              " 'such',\n",
              " 'no',\n",
              " 'nor',\n",
              " 'not',\n",
              " 'only',\n",
              " 'own',\n",
              " 'same',\n",
              " 'so',\n",
              " 'than',\n",
              " 'too',\n",
              " 'very',\n",
              " 's',\n",
              " 't',\n",
              " 'can',\n",
              " 'will',\n",
              " 'just',\n",
              " 'don',\n",
              " \"don't\",\n",
              " 'should',\n",
              " \"should've\",\n",
              " 'now',\n",
              " 'd',\n",
              " 'll',\n",
              " 'm',\n",
              " 'o',\n",
              " 're',\n",
              " 've',\n",
              " 'y',\n",
              " 'ain',\n",
              " 'aren',\n",
              " \"aren't\",\n",
              " 'couldn',\n",
              " \"couldn't\",\n",
              " 'didn',\n",
              " \"didn't\",\n",
              " 'doesn',\n",
              " \"doesn't\",\n",
              " 'hadn',\n",
              " \"hadn't\",\n",
              " 'hasn',\n",
              " \"hasn't\",\n",
              " 'haven',\n",
              " \"haven't\",\n",
              " 'isn',\n",
              " \"isn't\",\n",
              " 'ma',\n",
              " 'mightn',\n",
              " \"mightn't\",\n",
              " 'mustn',\n",
              " \"mustn't\",\n",
              " 'needn',\n",
              " \"needn't\",\n",
              " 'shan',\n",
              " \"shan't\",\n",
              " 'shouldn',\n",
              " \"shouldn't\",\n",
              " 'wasn',\n",
              " \"wasn't\",\n",
              " 'weren',\n",
              " \"weren't\",\n",
              " 'won',\n",
              " \"won't\",\n",
              " 'wouldn',\n",
              " \"wouldn't\"]"
            ]
          },
          "metadata": {},
          "execution_count": 31
        }
      ]
    },
    {
      "cell_type": "code",
      "source": [
        "# import word tokenize \n",
        "from nltk.tokenize import word_tokenize"
      ],
      "metadata": {
        "id": "NApiC_fnRKFZ"
      },
      "execution_count": null,
      "outputs": []
    },
    {
      "cell_type": "code",
      "source": [
        "sent1 =\" dsa is tough , all u need to do is practice\"\n",
        "len(sent1)"
      ],
      "metadata": {
        "colab": {
          "base_uri": "https://localhost:8080/"
        },
        "id": "m-PHv5PONGSf",
        "outputId": "4cf1c772-0fd6-46d0-aa0e-f78c0fb02074"
      },
      "execution_count": null,
      "outputs": [
        {
          "output_type": "execute_result",
          "data": {
            "text/plain": [
              "44"
            ]
          },
          "metadata": {},
          "execution_count": 2
        }
      ]
    },
    {
      "cell_type": "code",
      "source": [
        "#creating the topkens for the above text\n",
        "word_token = word_tokenize(sent1)\n",
        "print(word_token)"
      ],
      "metadata": {
        "colab": {
          "base_uri": "https://localhost:8080/"
        },
        "id": "9diWDvXTNc83",
        "outputId": "420f42fe-b9ce-494f-9c7a-bbabd5962f12"
      },
      "execution_count": null,
      "outputs": [
        {
          "output_type": "stream",
          "name": "stdout",
          "text": [
            "['dsa', 'is', 'tough', ',', 'all', 'u', 'need', 'to', 'do', 'is', 'practice']\n"
          ]
        }
      ]
    },
    {
      "cell_type": "code",
      "source": [
        "#seeing the length of word-token\n",
        "len(word_token)"
      ],
      "metadata": {
        "colab": {
          "base_uri": "https://localhost:8080/"
        },
        "id": "5pZ_c6IdPEnH",
        "outputId": "839cafe3-b70e-4920-bea2-2b1d4cc4a4bb"
      },
      "execution_count": null,
      "outputs": [
        {
          "output_type": "execute_result",
          "data": {
            "text/plain": [
              "11"
            ]
          },
          "metadata": {},
          "execution_count": 13
        }
      ]
    },
    {
      "cell_type": "code",
      "source": [
        "stopwords_tokenizer = [ token for token in word_token if token.lower() not in stopwords.words('english')] \n",
        "print(stopwords_tokenizer)"
      ],
      "metadata": {
        "colab": {
          "base_uri": "https://localhost:8080/"
        },
        "id": "1ESqpzFTRQZ2",
        "outputId": "25ae4595-6b12-4a15-ef07-f456eebd4d90"
      },
      "execution_count": null,
      "outputs": [
        {
          "output_type": "stream",
          "name": "stdout",
          "text": [
            "['dsa', 'tough', ',', 'u', 'need', 'practice']\n"
          ]
        }
      ]
    },
    {
      "cell_type": "code",
      "source": [
        "#providing loop[ for fetching filtered sentence]\n",
        "filtered_sentence =[]\n",
        "for token in word_token :\n",
        "    if token not in stop_words : \n",
        "       filtered_sentence.append(token)\n",
        "       print (filtered_sentence)"
      ],
      "metadata": {
        "colab": {
          "base_uri": "https://localhost:8080/"
        },
        "id": "malky9QJVnCB",
        "outputId": "fa4d9ae3-ef93-4202-cb59-1c2dc05143b3"
      },
      "execution_count": null,
      "outputs": [
        {
          "output_type": "stream",
          "name": "stdout",
          "text": [
            "['dsa']\n",
            "['dsa', 'tough']\n",
            "['dsa', 'tough', ',']\n",
            "['dsa', 'tough', ',', 'u']\n",
            "['dsa', 'tough', ',', 'u', 'need']\n",
            "['dsa', 'tough', ',', 'u', 'need', 'practice']\n"
          ]
        }
      ]
    },
    {
      "cell_type": "code",
      "source": [
        "filtered_sentence = [ token for token in word_token if not token in stop_words] \n",
        "print(filtered_sentence)"
      ],
      "metadata": {
        "colab": {
          "base_uri": "https://localhost:8080/"
        },
        "id": "xwimkq_sb5RY",
        "outputId": "49c47c69-5b4a-4794-851d-500d691fc75e"
      },
      "execution_count": null,
      "outputs": [
        {
          "output_type": "stream",
          "name": "stdout",
          "text": [
            "['dsa', 'tough', ',', 'u', 'need', 'practice']\n"
          ]
        }
      ]
    },
    {
      "cell_type": "code",
      "source": [
        "#length of the filtered sentence \n",
        "len(filtered_sentence)"
      ],
      "metadata": {
        "colab": {
          "base_uri": "https://localhost:8080/"
        },
        "id": "NyBRbuMwcxDe",
        "outputId": "dfe5815e-a616-441d-c42c-58d62efb8b82"
      },
      "execution_count": null,
      "outputs": [
        {
          "output_type": "execute_result",
          "data": {
            "text/plain": [
              "6"
            ]
          },
          "metadata": {},
          "execution_count": 44
        }
      ]
    },
    {
      "cell_type": "code",
      "source": [],
      "metadata": {
        "colab": {
          "base_uri": "https://localhost:8080/"
        },
        "id": "ZuJxycRXg_ov",
        "outputId": "45930e74-2c8d-447d-b239-7f6c3a6e862a"
      },
      "execution_count": null,
      "outputs": [
        {
          "output_type": "stream",
          "name": "stdout",
          "text": [
            "ORIGNAL SENTENCE :  dsa is tough , all u need to do is practice \n",
            "\n",
            "tokenized senetence  ['dsa', 'is', 'tough', ',', 'all', 'u', 'need', 'to', 'do', 'is', 'practice'] \n",
            "\n",
            "Filtered sentence after applying stopwords ['dsa', 'tough', ',', 'u', 'need', 'practice'] \n",
            "\n"
          ]
        }
      ]
    },
    {
      "cell_type": "code",
      "source": [
        "#adding punctuation to the sentences\n",
        "import string \n",
        "no_punc_filtered = [ token for token in word_token if  not token in string.punctuation] \n",
        "print(no_punc_filtered)\n"
      ],
      "metadata": {
        "colab": {
          "base_uri": "https://localhost:8080/"
        },
        "id": "ZMuepc-ijn6r",
        "outputId": "859dcbd4-c838-42d3-be0d-dd376a715087"
      },
      "execution_count": null,
      "outputs": [
        {
          "output_type": "stream",
          "name": "stdout",
          "text": [
            "['dsa', 'is', 'tough', 'all', 'u', 'need', 'to', 'do', 'is', 'practice']\n"
          ]
        }
      ]
    },
    {
      "cell_type": "code",
      "source": [
        "#comparing the data given by word_tokenizer and sentence filtered\n",
        "print(\"ORIGNAL SENTENCE :\" , sent1 ,\"\\n\")\n",
        "print(\"tokenized senetence \" ,word_token, \"\\n\")\n",
        "print(\"Filtered sentence after applying stopwords\" ,filtered_sentence,\"\\n\")\n",
        "print(\"filtered sentence with no punctuation\", no_punc_filtered, \"\\n\" )\n",
        "\n"
      ],
      "metadata": {
        "colab": {
          "base_uri": "https://localhost:8080/"
        },
        "id": "lA71ehfKketg",
        "outputId": "68c8135c-1464-4145-fa5b-6bc6c7831ba1"
      },
      "execution_count": null,
      "outputs": [
        {
          "output_type": "stream",
          "name": "stdout",
          "text": [
            "ORIGNAL SENTENCE :  dsa is tough , all u need to do is practice \n",
            "\n",
            "tokenized senetence  ['dsa', 'is', 'tough', ',', 'all', 'u', 'need', 'to', 'do', 'is', 'practice'] \n",
            "\n",
            "Filtered sentence after applying stopwords ['dsa', 'tough', ',', 'u', 'need', 'practice'] \n",
            "\n",
            "filtered sentence with no punctuation ['dsa', 'is', 'tough', 'all', 'u', 'need', 'to', 'do', 'is', 'practice'] \n",
            "\n"
          ]
        }
      ]
    }
  ]
}